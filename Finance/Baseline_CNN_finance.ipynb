{
 "cells": [
  {
   "cell_type": "markdown",
   "metadata": {},
   "source": [
    "# Introduction"
   ]
  },
  {
   "cell_type": "markdown",
   "metadata": {},
   "source": [
    "In this part, a CNN is used to make financial time-series prediction. \n",
    "The input is a matrix of shape (30,5) which is the result of the pre-processing program. \n",
    "The problem is a supervised bi-label classification. Given the input matrix, the neural network returns two labels:\n",
    "- Go up (the neural network forecasts that the price of the stock goes up for the next day)\n",
    "- Go Down (the neural network forecasts that the price of the stock goes down for the next day)\n",
    "\n",
    "Thanks to Rachnog (https://github.com/Rachnog/Deep-Trading) for this part which is inspired from its work. <br> \n",
    "Thanks to  Jason Brownlee (https://machinelearningmastery.com/display-deep-learning-model-training-history-in-keras/) for the training historic visualization in keras.<br><br>\n",
    "This network's result serves as a baseline to compare with the results coming from the Capsules Network."
   ]
  },
  {
   "cell_type": "markdown",
   "metadata": {
    "ExecuteTime": {
     "end_time": "2018-06-03T22:13:38.000529Z",
     "start_time": "2018-06-03T22:13:37.996668Z"
    }
   },
   "source": [
    "# Imports"
   ]
  },
  {
   "cell_type": "code",
   "execution_count": 1,
   "metadata": {
    "ExecuteTime": {
     "end_time": "2018-06-04T04:29:07.905018Z",
     "start_time": "2018-06-04T04:29:04.872651Z"
    }
   },
   "outputs": [
    {
     "name": "stderr",
     "output_type": "stream",
     "text": [
      "/Users/Selim/anaconda/lib/python3.6/site-packages/h5py/__init__.py:34: FutureWarning: Conversion of the second argument of issubdtype from `float` to `np.floating` is deprecated. In future, it will be treated as `np.float64 == np.dtype(float).type`.\n",
      "  from ._conv import register_converters as _register_converters\n",
      "Using TensorFlow backend.\n"
     ]
    }
   ],
   "source": [
    "from utils import *\n",
    "\n",
    "import pandas as pd\n",
    "import matplotlib.pylab as plt\n",
    "\n",
    "from keras.models import Sequential\n",
    "from keras.layers.core import Dense, Dropout, Activation, Flatten\n",
    "from keras.layers.recurrent import LSTM, GRU\n",
    "from keras.layers import Convolution1D, MaxPooling1D, AtrousConvolution1D, RepeatVector\n",
    "from keras.callbacks import ModelCheckpoint, ReduceLROnPlateau, CSVLogger\n",
    "from keras.layers.wrappers import Bidirectional\n",
    "from keras import regularizers\n",
    "from keras.layers.normalization import BatchNormalization\n",
    "from keras.layers.advanced_activations import *\n",
    "from keras.optimizers import RMSprop, Adam, SGD, Nadam\n",
    "from keras.initializers import *\n",
    "from sklearn.metrics import classification_report\n",
    "from sklearn.metrics import confusion_matrix\n",
    "import pickle \n",
    "from tqdm import tqdm \n",
    "import os"
   ]
  },
  {
   "cell_type": "markdown",
   "metadata": {},
   "source": [
    "# Parameters"
   ]
  },
  {
   "cell_type": "markdown",
   "metadata": {},
   "source": [
    "- <b>WINDOW</b> is the number of previous observations taken to build the input matrix\n",
    "- <b>EMB_SIZE</b> is the number of features (Open, High, Low, Close, Volume)\n",
    "- <b>FORECAST</b> is the delta-time in the future which is used for the labels (usually 1,2 or 3)"
   ]
  },
  {
   "cell_type": "code",
   "execution_count": 4,
   "metadata": {
    "ExecuteTime": {
     "end_time": "2018-06-04T04:02:12.284732Z",
     "start_time": "2018-06-04T04:02:12.281212Z"
    }
   },
   "outputs": [],
   "source": [
    "WINDOW = 30\n",
    "EMB_SIZE = 5\n",
    "FORECAST = 1"
   ]
  },
  {
   "cell_type": "markdown",
   "metadata": {},
   "source": [
    "For all the ticker, we use the training and validation dataset in order to get the accuracy of the CNN. The validation accuracy is used as a metric because at this point, there is no hyper-parameters optimization. So, there is no over-fitting done by hyper-parameters optimization. "
   ]
  },
  {
   "cell_type": "markdown",
   "metadata": {},
   "source": [
    "# Model "
   ]
  },
  {
   "cell_type": "markdown",
   "metadata": {},
   "source": [
    "We put the Model into a function with the tickers as input to make it easier to train the Model with all the tickers. "
   ]
  },
  {
   "cell_type": "code",
   "execution_count": 15,
   "metadata": {
    "ExecuteTime": {
     "end_time": "2018-06-04T04:08:14.695088Z",
     "start_time": "2018-06-04T04:08:14.453217Z"
    }
   },
   "outputs": [],
   "source": [
    "\n",
    "def cnn_model(ticker, visu = 'False'):\n",
    "    \"\"\"\n",
    "    This function takes a tickers as input.\n",
    "    It returns a dictionnary of different results coming from the CNN which has been trained with the tickers data.\n",
    "    The architecture of the CNN is the same for all the tickers, there is no hyper-parameters optimization. \n",
    "    The CNN are trained with the same number of epochs.\n",
    "    The dictionnary is composed of:\n",
    "    - Ticker\n",
    "    - Maximum training accuracy over the epochs\n",
    "    - Epoch in which this maximum accuracy occured\n",
    "    - Maximum validation accuracy over the epochs\n",
    "    - Epoch in which this maximum accuracy occured\n",
    "    \n",
    "    \n",
    "    visu is an argument which enables visualization of the training history if requiered\n",
    "    \"\"\"\n",
    "\n",
    "    #load the input matrices corresponding to the ticker\n",
    "    path = \"./data_out_autoreg/{}/\".format(ticker)\n",
    "    x_train = np.load(path+'X_train.npy')\n",
    "    shape_x_train = x_train.shape\n",
    "    x_val = np.load(path+'X_val.npy')\n",
    "    y_train = np.load(path+'Y_train.npy')\n",
    "    y_val = np.load(path+'Y_val.npy')\n",
    "    \n",
    "    #reshape of the input matrix\n",
    "    X_train = np.reshape(x_train, (x_train.shape[0], x_train.shape[1], EMB_SIZE))\n",
    "    X_val = np.reshape(x_val, (x_val.shape[0], x_val.shape[1], EMB_SIZE))\n",
    "    \n",
    "    #turn the label into a categorical matrix\n",
    "    Y_train = np.eye(2)[y_train]\n",
    "    Y_val = np.eye(2)[y_val]\n",
    "    \n",
    "    #construction of the model \n",
    "    model = Sequential()\n",
    "    model.add(Convolution1D(input_shape = (WINDOW, EMB_SIZE),\n",
    "                            nb_filter=16,\n",
    "                            filter_length=4,\n",
    "                            border_mode='same'))\n",
    "    model.add(BatchNormalization())\n",
    "    model.add(LeakyReLU())\n",
    "    model.add(Dropout(0.5))\n",
    "    model.add(Convolution1D(nb_filter=8,\n",
    "                            filter_length=4,\n",
    "                            border_mode='same'))\n",
    "    model.add(BatchNormalization())\n",
    "    model.add(LeakyReLU())\n",
    "    model.add(Dropout(0.5))\n",
    "    model.add(Flatten())\n",
    "    model.add(Dense(64))\n",
    "    model.add(BatchNormalization())\n",
    "    model.add(LeakyReLU())\n",
    "    model.add(Dense(2))\n",
    "    model.add(Activation('softmax'))\n",
    "\n",
    "    #otimization\n",
    "    opt = Nadam(lr=0.002)\n",
    "    reduce_lr = ReduceLROnPlateau(monitor='val_acc', factor=0.9, patience=30, min_lr=0.000001, verbose=0)\n",
    "\n",
    "    model.compile(optimizer=opt, \n",
    "                  loss='categorical_crossentropy',\n",
    "                  metrics=['accuracy'])\n",
    "    #training\n",
    "    history = model.fit(X_train, Y_train, \n",
    "              nb_epoch = 50, \n",
    "              batch_size = 128, \n",
    "              verbose=0, \n",
    "              validation_data=(X_val, Y_val),\n",
    "              callbacks=[reduce_lr],\n",
    "              shuffle=True)\n",
    "    \n",
    "    #this visualization if made only for the Apple ticker\n",
    "    if visu == True:\n",
    "        # list all data in history\n",
    "        print(history.history.keys())\n",
    "        # summarize history for accuracy\n",
    "        plt.plot(history.history['acc'])\n",
    "        plt.plot(history.history['val_acc'])\n",
    "        plt.title('model accuracy {}'.format(ticker))\n",
    "        plt.ylabel('accuracy')\n",
    "        plt.xlabel('epoch')\n",
    "        plt.legend(['train', 'test'], loc='upper left')\n",
    "        plt.show()\n",
    "        # summarize history for loss\n",
    "        plt.plot(history.history['loss'])\n",
    "        plt.plot(history.history['val_loss'])\n",
    "        plt.title('model loss {}'.format(ticker))\n",
    "        plt.ylabel('loss')\n",
    "        plt.xlabel('epoch')\n",
    "        plt.legend(['train', 'test'], loc='upper left')\n",
    "        plt.show()\n",
    "        \n",
    "    #testing\n",
    "    pred = model.predict(np.array(X_val))\n",
    "    list_train_acc = history.history['acc']\n",
    "    max_train_acc = max(list_train_acc)\n",
    "    index_max_train_acc = list_train_acc.index(max_train_acc)\n",
    "        \n",
    "    list_val_acc = history.history['val_acc']\n",
    "    max_val_acc = max(list_val_acc)\n",
    "    index_max_val_acc = list_val_acc.index(max_val_acc)\n",
    "        \n",
    "    return {'ticker':ticker, 'max_train_accuracy':max_train_acc, 'epoch_max_train':index_max_train_acc,\n",
    "           'max_val_accuracy':max_val_acc, 'epoch_max_val':index_max_val_acc}\n",
    "\n"
   ]
  },
  {
   "cell_type": "markdown",
   "metadata": {},
   "source": [
    "# Example with Amazon "
   ]
  },
  {
   "cell_type": "code",
   "execution_count": 18,
   "metadata": {
    "ExecuteTime": {
     "end_time": "2018-06-04T04:11:29.442154Z",
     "start_time": "2018-06-04T04:11:21.890729Z"
    }
   },
   "outputs": [
    {
     "name": "stderr",
     "output_type": "stream",
     "text": [
      "/Users/Selim/anaconda/lib/python3.6/site-packages/ipykernel_launcher.py:40: UserWarning: Update your `Conv1D` call to the Keras 2 API: `Conv1D(input_shape=(30, 5), filters=16, kernel_size=4, padding=\"same\")`\n",
      "/Users/Selim/anaconda/lib/python3.6/site-packages/ipykernel_launcher.py:46: UserWarning: Update your `Conv1D` call to the Keras 2 API: `Conv1D(filters=8, kernel_size=4, padding=\"same\")`\n",
      "/Users/Selim/anaconda/lib/python3.6/site-packages/keras/models.py:944: UserWarning: The `nb_epoch` argument in `fit` has been renamed `epochs`.\n",
      "  warnings.warn('The `nb_epoch` argument in `fit` '\n"
     ]
    },
    {
     "name": "stdout",
     "output_type": "stream",
     "text": [
      "dict_keys(['val_loss', 'val_acc', 'loss', 'acc', 'lr'])\n"
     ]
    },
    {
     "data": {
      "image/png": "[encoded data removed]",
      "text/plain": [
       "<matplotlib.figure.Figure at 0x1a203256d8>"
      ]
     },
     "metadata": {},
     "output_type": "display_data"
    },
    {
     "data": {
      "image/png": "[encoded data removed]",
      "text/plain": [
       "<matplotlib.figure.Figure at 0x1a212550f0>"
      ]
     },
     "metadata": {},
     "output_type": "display_data"
    },
    {
     "data": {
      "text/plain": [
       "{'epoch_max_train': 30,\n",
       " 'epoch_max_val': 30,\n",
       " 'max_train_accuracy': 0.6262729149729074,\n",
       " 'max_val_accuracy': 0.5409836173057556,\n",
       " 'ticker': 'AMZN'}"
      ]
     },
     "execution_count": 18,
     "metadata": {},
     "output_type": "execute_result"
    }
   ],
   "source": [
    "cnn_model('AMZN', visu = True)"
   ]
  },
  {
   "cell_type": "markdown",
   "metadata": {},
   "source": [
    "# Execution for all tickers and save of results"
   ]
  },
  {
   "cell_type": "code",
   "execution_count": 4,
   "metadata": {
    "ExecuteTime": {
     "end_time": "2018-04-25T16:55:47.353685Z",
     "start_time": "2018-04-25T16:55:47.346573Z"
    }
   },
   "outputs": [],
   "source": [
    "#save the results \n",
    "\n",
    "data_dir = './data_out_autoreg/'\n",
    "directory = data_dir # path to the files\n",
    "list_tickers  = os.listdir(directory) #these are the differents files\n",
    "list_results = list()\n",
    "\n",
    "for ticker in tqdm(list_tickers):\n",
    "    list_results.append(cnn_model(ticker))\n",
    "    \n",
    "with open('list_results_selim_cnn.pkl', 'wb') as f:\n",
    "    pickle.dump(list_results, f)    "
   ]
  },
  {
   "cell_type": "code",
   "execution_count": null,
   "metadata": {},
   "outputs": [],
   "source": []
  }
 ],
 "metadata": {
  "kernelspec": {
   "display_name": "Python 3",
   "language": "python",
   "name": "python3"
  },
  "language_info": {
   "codemirror_mode": {
    "name": "ipython",
    "version": 3
   },
   "file_extension": ".py",
   "mimetype": "text/x-python",
   "name": "python",
   "nbconvert_exporter": "python",
   "pygments_lexer": "ipython3",
   "version": "3.6.3"
  },
  "toc": {
   "nav_menu": {},
   "number_sections": true,
   "sideBar": true,
   "skip_h1_title": false,
   "title_cell": "Table of Contents",
   "title_sidebar": "Contents",
   "toc_cell": false,
   "toc_position": {},
   "toc_section_display": true,
   "toc_window_display": false
  },
  "varInspector": {
   "cols": {
    "lenName": 16,
    "lenType": 16,
    "lenVar": 40
   },
   "kernels_config": {
    "python": {
     "delete_cmd_postfix": "",
     "delete_cmd_prefix": "del ",
     "library": "var_list.py",
     "varRefreshCmd": "print(var_dic_list())"
    },
    "r": {
     "delete_cmd_postfix": ") ",
     "delete_cmd_prefix": "rm(",
     "library": "var_list.r",
     "varRefreshCmd": "cat(var_dic_list()) "
    }
   },
   "types_to_exclude": [
    "module",
    "function",
    "builtin_function_or_method",
    "instance",
    "_Feature"
   ],
   "window_display": false
  }
 },
 "nbformat": 4,
 "nbformat_minor": 2
}
