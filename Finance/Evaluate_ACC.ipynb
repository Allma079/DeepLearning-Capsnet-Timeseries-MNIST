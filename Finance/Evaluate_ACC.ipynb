{
 "cells": [
  {
   "cell_type": "code",
   "execution_count": 1,
   "metadata": {
    "ExecuteTime": {
     "end_time": "2018-06-04T04:32:52.984066Z",
     "start_time": "2018-06-04T04:32:50.183764Z"
    }
   },
   "outputs": [
    {
     "name": "stderr",
     "output_type": "stream",
     "text": [
      "/Users/Selim/anaconda/lib/python3.6/site-packages/h5py/__init__.py:34: FutureWarning: Conversion of the second argument of issubdtype from `float` to `np.floating` is deprecated. In future, it will be treated as `np.float64 == np.dtype(float).type`.\n",
      "  from ._conv import register_converters as _register_converters\n",
      "Using TensorFlow backend.\n"
     ]
    }
   ],
   "source": [
    "from utils import *\n",
    "\n",
    "import pandas as pd\n",
    "import matplotlib.pylab as plt\n",
    "\n",
    "from keras.models import Sequential\n",
    "from keras.layers.core import Dense, Dropout, Activation, Flatten\n",
    "from keras.layers.recurrent import LSTM, GRU\n",
    "from keras.layers import Convolution1D, MaxPooling1D, AtrousConvolution1D, RepeatVector\n",
    "from keras.callbacks import ModelCheckpoint, ReduceLROnPlateau, CSVLogger\n",
    "from keras.layers.wrappers import Bidirectional\n",
    "from keras import regularizers\n",
    "from keras.layers.normalization import BatchNormalization\n",
    "from keras.layers.advanced_activations import *\n",
    "from keras.optimizers import RMSprop, Adam, SGD, Nadam\n",
    "from keras.initializers import *\n",
    "from sklearn.metrics import classification_report\n",
    "from sklearn.metrics import confusion_matrix\n",
    "import pickle \n",
    "from tqdm import tqdm \n",
    "import os\n",
    "import seaborn as sns\n",
    "sns.despine()"
   ]
  },
  {
   "cell_type": "code",
   "execution_count": 4,
   "metadata": {
    "ExecuteTime": {
     "end_time": "2018-06-04T04:33:31.484293Z",
     "start_time": "2018-06-04T04:33:31.471678Z"
    }
   },
   "outputs": [],
   "source": [
    "file = open('./Visualization/' + \"list_results_max_cnn.pkl\",'rb')\n",
    "list_results = pickle.load(file)\n",
    "file = open('./Visualization/' + \"list_results_selim_cnn.pkl\",'rb')\n",
    "list_results.extend(pickle.load(file))\n",
    "with open('./Visualization/' + 'list_results_tot_cnn.pkl', 'wb') as f:\n",
    "    pickle.dump(list_results, f)"
   ]
  },
  {
   "cell_type": "code",
   "execution_count": 25,
   "metadata": {
    "ExecuteTime": {
     "end_time": "2018-04-26T01:12:09.578829Z",
     "start_time": "2018-04-26T01:12:09.570736Z"
    }
   },
   "outputs": [],
   "source": [
    "df1 = pd.DataFrame(list_results,columns=['ticker','max_train_accuracy','max_val_accuracy','epoch_max_train','epoch_max_val'])"
   ]
  },
  {
   "cell_type": "code",
   "execution_count": 26,
   "metadata": {
    "ExecuteTime": {
     "end_time": "2018-04-26T01:12:09.780550Z",
     "start_time": "2018-04-26T01:12:09.777013Z"
    }
   },
   "outputs": [],
   "source": [
    "df1.index = df1['ticker']"
   ]
  },
  {
   "cell_type": "code",
   "execution_count": 27,
   "metadata": {
    "ExecuteTime": {
     "end_time": "2018-04-26T01:12:09.994919Z",
     "start_time": "2018-04-26T01:12:09.976504Z"
    }
   },
   "outputs": [],
   "source": [
    "#best accuracy over training\n",
    "list_train_acc = list()\n",
    "#best accuracy over validation\n",
    "list_val_acc = list()\n",
    "#epoch when best accuracy training happened\n",
    "list_train_epoch = list()\n",
    "#epoch when best accuracy val happened\n",
    "list_val_epoch = list()\n",
    "list_ticker = list()\n",
    "\n",
    "for result in list_results:\n",
    "    list_ticker.append(result['ticker'])\n",
    "    list_train_acc.append(result['max_train_accuracy'])\n",
    "    list_val_acc.append(result['max_val_accuracy'])\n",
    "    list_train_epoch.append(result['epoch_max_train'])\n",
    "    list_val_epoch.append(result['epoch_max_val'])"
   ]
  },
  {
   "cell_type": "code",
   "execution_count": 28,
   "metadata": {
    "ExecuteTime": {
     "end_time": "2018-04-26T01:12:10.633434Z",
     "start_time": "2018-04-26T01:12:10.192552Z"
    }
   },
   "outputs": [
    {
     "data": {
      "text/plain": [
       "<matplotlib.axes._subplots.AxesSubplot at 0x1141d74e0>"
      ]
     },
     "execution_count": 28,
     "metadata": {},
     "output_type": "execute_result"
    },
    {
     "data": {
      "image/png": "[encoded data removed]",
      "text/plain": [
       "<matplotlib.figure.Figure at 0x11190d358>"
      ]
     },
     "metadata": {},
     "output_type": "display_data"
    }
   ],
   "source": [
    "sns.distplot(list_train_acc, kde= False)\n"
   ]
  },
  {
   "cell_type": "code",
   "execution_count": 29,
   "metadata": {
    "ExecuteTime": {
     "end_time": "2018-04-26T01:12:11.026806Z",
     "start_time": "2018-04-26T01:12:10.687249Z"
    }
   },
   "outputs": [
    {
     "data": {
      "text/plain": [
       "<matplotlib.axes._subplots.AxesSubplot at 0x1142bce10>"
      ]
     },
     "execution_count": 29,
     "metadata": {},
     "output_type": "execute_result"
    },
    {
     "data": {
      "image/png": "[encoded data removed]",
      "text/plain": [
       "<matplotlib.figure.Figure at 0x114225d30>"
      ]
     },
     "metadata": {},
     "output_type": "display_data"
    }
   ],
   "source": [
    "sns.distplot(list_val_acc, kde= False)"
   ]
  },
  {
   "cell_type": "code",
   "execution_count": 30,
   "metadata": {
    "ExecuteTime": {
     "end_time": "2018-04-26T01:12:11.486169Z",
     "start_time": "2018-04-26T01:12:11.197838Z"
    }
   },
   "outputs": [
    {
     "data": {
      "text/plain": [
       "<matplotlib.axes._subplots.AxesSubplot at 0x1143d16d8>"
      ]
     },
     "execution_count": 30,
     "metadata": {},
     "output_type": "execute_result"
    },
    {
     "data": {
      "image/png": "[encoded data removed]",
      "text/plain": [
       "<matplotlib.figure.Figure at 0x1143cc208>"
      ]
     },
     "metadata": {},
     "output_type": "display_data"
    }
   ],
   "source": [
    "sns.distplot(list_train_epoch, kde= False)"
   ]
  },
  {
   "cell_type": "code",
   "execution_count": 31,
   "metadata": {
    "ExecuteTime": {
     "end_time": "2018-04-26T01:12:11.781396Z",
     "start_time": "2018-04-26T01:12:11.552544Z"
    }
   },
   "outputs": [
    {
     "data": {
      "text/plain": [
       "<matplotlib.axes._subplots.AxesSubplot at 0x1a1e8e5668>"
      ]
     },
     "execution_count": 31,
     "metadata": {},
     "output_type": "execute_result"
    },
    {
     "data": {
      "image/png": "[encoded data removed]",
      "text/plain": [
       "<matplotlib.figure.Figure at 0x1143595c0>"
      ]
     },
     "metadata": {},
     "output_type": "display_data"
    }
   ],
   "source": [
    "sns.distplot(list_val_epoch, kde= False)"
   ]
  },
  {
   "cell_type": "code",
   "execution_count": 32,
   "metadata": {
    "ExecuteTime": {
     "end_time": "2018-04-26T01:12:16.556513Z",
     "start_time": "2018-04-26T01:12:11.838337Z"
    },
    "scrolled": true
   },
   "outputs": [
    {
     "name": "stderr",
     "output_type": "stream",
     "text": [
      "/Users/Selim/anaconda/lib/python3.6/site-packages/matplotlib/cbook/deprecation.py:106: MatplotlibDeprecationWarning: Adding an axes using the same arguments as a previous axes currently reuses the earlier instance.  In a future version, a new instance will always be created and returned.  Meanwhile, this warning can be suppressed, and the future behavior ensured, by passing a unique label to each axes instance.\n",
      "  warnings.warn(message, mplDeprecation, stacklevel=1)\n"
     ]
    },
    {
     "data": {
      "text/plain": [
       "[Text(0,0,'EFX'),\n",
       " Text(0,0,'MET'),\n",
       " Text(0,0,'EQIX'),\n",
       " Text(0,0,'LYB'),\n",
       " Text(0,0,'TDG'),\n",
       " Text(0,0,'NFLX'),\n",
       " Text(0,0,'PNR'),\n",
       " Text(0,0,'FISV'),\n",
       " Text(0,0,'KEY'),\n",
       " Text(0,0,'ACN'),\n",
       " Text(0,0,'ATVI'),\n",
       " Text(0,0,'CINF'),\n",
       " Text(0,0,'COO'),\n",
       " Text(0,0,'AEP'),\n",
       " Text(0,0,'CHRW'),\n",
       " Text(0,0,'COF'),\n",
       " Text(0,0,'PRGO'),\n",
       " Text(0,0,'VMC'),\n",
       " Text(0,0,'ALGN'),\n",
       " Text(0,0,'HSY'),\n",
       " Text(0,0,'T'),\n",
       " Text(0,0,'CHTR'),\n",
       " Text(0,0,'DUK'),\n",
       " Text(0,0,'TAP'),\n",
       " Text(0,0,'NUE'),\n",
       " Text(0,0,'FFIV'),\n",
       " Text(0,0,'MCK'),\n",
       " Text(0,0,'A'),\n",
       " Text(0,0,'AIG'),\n",
       " Text(0,0,'EBAY'),\n",
       " Text(0,0,'WY'),\n",
       " Text(0,0,'F'),\n",
       " Text(0,0,'NTRS'),\n",
       " Text(0,0,'DPS'),\n",
       " Text(0,0,'RF'),\n",
       " Text(0,0,'MON'),\n",
       " Text(0,0,'RHT'),\n",
       " Text(0,0,'AEE'),\n",
       " Text(0,0,'XEC'),\n",
       " Text(0,0,'DRI'),\n",
       " Text(0,0,'NRG'),\n",
       " Text(0,0,'CMG'),\n",
       " Text(0,0,'IBM'),\n",
       " Text(0,0,'ADP'),\n",
       " Text(0,0,'PEG'),\n",
       " Text(0,0,'MKC'),\n",
       " Text(0,0,'CMI'),\n",
       " Text(0,0,'AMD'),\n",
       " Text(0,0,'BWA'),\n",
       " Text(0,0,'MHK'),\n",
       " Text(0,0,'HRL'),\n",
       " Text(0,0,'PG'),\n",
       " Text(0,0,'INCY'),\n",
       " Text(0,0,'BXP'),\n",
       " Text(0,0,'XOM'),\n",
       " Text(0,0,'USB'),\n",
       " Text(0,0,'VFC'),\n",
       " Text(0,0,'MAC'),\n",
       " Text(0,0,'SO'),\n",
       " Text(0,0,'KMX'),\n",
       " Text(0,0,'LRCX'),\n",
       " Text(0,0,'CHD'),\n",
       " Text(0,0,'DTE'),\n",
       " Text(0,0,'HRB'),\n",
       " Text(0,0,'NDAQ'),\n",
       " Text(0,0,'JBHT'),\n",
       " Text(0,0,'VRSK'),\n",
       " Text(0,0,'PFG'),\n",
       " Text(0,0,'WYN'),\n",
       " Text(0,0,'ROP'),\n",
       " Text(0,0,'AME'),\n",
       " Text(0,0,'XEL'),\n",
       " Text(0,0,'RJF'),\n",
       " Text(0,0,'KMB'),\n",
       " Text(0,0,'CMA'),\n",
       " Text(0,0,'SPG'),\n",
       " Text(0,0,'DLTR'),\n",
       " Text(0,0,'TJX'),\n",
       " Text(0,0,'SBUX'),\n",
       " Text(0,0,'YUM'),\n",
       " Text(0,0,'CMS'),\n",
       " Text(0,0,'PH'),\n",
       " Text(0,0,'FTI'),\n",
       " Text(0,0,'ROK'),\n",
       " Text(0,0,'MDLZ'),\n",
       " Text(0,0,'NWL'),\n",
       " Text(0,0,'PCAR'),\n",
       " Text(0,0,'MDT'),\n",
       " Text(0,0,'TRIP'),\n",
       " Text(0,0,'ABT'),\n",
       " Text(0,0,'ADM'),\n",
       " Text(0,0,'AMP'),\n",
       " Text(0,0,'CHK'),\n",
       " Text(0,0,'OMC'),\n",
       " Text(0,0,'HOG'),\n",
       " Text(0,0,'NEE'),\n",
       " Text(0,0,'CSX'),\n",
       " Text(0,0,'AZO'),\n",
       " Text(0,0,'MPC'),\n",
       " Text(0,0,'KR'),\n",
       " Text(0,0,'FCX'),\n",
       " Text(0,0,'AYI'),\n",
       " Text(0,0,'UDR'),\n",
       " Text(0,0,'WMB'),\n",
       " Text(0,0,'KSU'),\n",
       " Text(0,0,'FLR'),\n",
       " Text(0,0,'TRV'),\n",
       " Text(0,0,'GPC'),\n",
       " Text(0,0,'HON'),\n",
       " Text(0,0,'WBA'),\n",
       " Text(0,0,'BA'),\n",
       " Text(0,0,'APA'),\n",
       " Text(0,0,'GE'),\n",
       " Text(0,0,'ESS'),\n",
       " Text(0,0,'JEC'),\n",
       " Text(0,0,'HCP'),\n",
       " Text(0,0,'PAYX'),\n",
       " Text(0,0,'MYL'),\n",
       " Text(0,0,'INTU'),\n",
       " Text(0,0,'PBCT'),\n",
       " Text(0,0,'CPB'),\n",
       " Text(0,0,'BEN'),\n",
       " Text(0,0,'WDC'),\n",
       " Text(0,0,'BIIB'),\n",
       " Text(0,0,'ZION'),\n",
       " Text(0,0,'APH'),\n",
       " Text(0,0,'NFX'),\n",
       " Text(0,0,'WHR'),\n",
       " Text(0,0,'FLS'),\n",
       " Text(0,0,'NVDA'),\n",
       " Text(0,0,'JCI'),\n",
       " Text(0,0,'NEM'),\n",
       " Text(0,0,'KSS'),\n",
       " Text(0,0,'AMGN'),\n",
       " Text(0,0,'DOV'),\n",
       " Text(0,0,'LEG'),\n",
       " Text(0,0,'UAL'),\n",
       " Text(0,0,'PWR'),\n",
       " Text(0,0,'UNH'),\n",
       " Text(0,0,'ZTS'),\n",
       " Text(0,0,'HES'),\n",
       " Text(0,0,'LEN'),\n",
       " Text(0,0,'CERN'),\n",
       " Text(0,0,'NOV'),\n",
       " Text(0,0,'AVB'),\n",
       " Text(0,0,'GM'),\n",
       " Text(0,0,'DIS'),\n",
       " Text(0,0,'WAT'),\n",
       " Text(0,0,'PXD'),\n",
       " Text(0,0,'DE'),\n",
       " Text(0,0,'NOC'),\n",
       " Text(0,0,'ANTM'),\n",
       " Text(0,0,'IDXX'),\n",
       " Text(0,0,'NLSN'),\n",
       " Text(0,0,'CSCO'),\n",
       " Text(0,0,'CVS'),\n",
       " Text(0,0,'GD'),\n",
       " Text(0,0,'AVY'),\n",
       " Text(0,0,'KO'),\n",
       " Text(0,0,'IVZ'),\n",
       " Text(0,0,'AXP'),\n",
       " Text(0,0,'SYMC'),\n",
       " Text(0,0,'AVGO'),\n",
       " Text(0,0,'ISRG'),\n",
       " Text(0,0,'MTB'),\n",
       " Text(0,0,'ARE'),\n",
       " Text(0,0,'HAS'),\n",
       " Text(0,0,'NBL'),\n",
       " Text(0,0,'EA'),\n",
       " Text(0,0,'LNC'),\n",
       " Text(0,0,'CTXS'),\n",
       " Text(0,0,'EXC'),\n",
       " Text(0,0,'ESRX'),\n",
       " Text(0,0,'FDX'),\n",
       " Text(0,0,'VIAB'),\n",
       " Text(0,0,'TSS'),\n",
       " Text(0,0,'DISCK'),\n",
       " Text(0,0,'CBOE'),\n",
       " Text(0,0,'MNST'),\n",
       " Text(0,0,'TPR'),\n",
       " Text(0,0,'ADSK'),\n",
       " Text(0,0,'HBI'),\n",
       " Text(0,0,'CXO'),\n",
       " Text(0,0,'SJM'),\n",
       " Text(0,0,'ETN'),\n",
       " Text(0,0,'XYL'),\n",
       " Text(0,0,'XLNX'),\n",
       " Text(0,0,'FMC'),\n",
       " Text(0,0,'ITW'),\n",
       " Text(0,0,'DAL'),\n",
       " Text(0,0,'TSN'),\n",
       " Text(0,0,'MTD'),\n",
       " Text(0,0,'BBT'),\n",
       " Text(0,0,'TSCO'),\n",
       " Text(0,0,'SLG'),\n",
       " Text(0,0,'MRO'),\n",
       " Text(0,0,'NKE'),\n",
       " Text(0,0,'LH'),\n",
       " Text(0,0,'GWW'),\n",
       " Text(0,0,'CL'),\n",
       " Text(0,0,'PSA'),\n",
       " Text(0,0,'BDX'),\n",
       " Text(0,0,'ETR'),\n",
       " Text(0,0,'CB'),\n",
       " Text(0,0,'PPG'),\n",
       " Text(0,0,'IP'),\n",
       " Text(0,0,'SWKS'),\n",
       " Text(0,0,'CTL'),\n",
       " Text(0,0,'OXY'),\n",
       " Text(0,0,'M'),\n",
       " Text(0,0,'URI'),\n",
       " Text(0,0,'HOLX'),\n",
       " Text(0,0,'WU'),\n",
       " Text(0,0,'ADBE'),\n",
       " Text(0,0,'EIX'),\n",
       " Text(0,0,'MLM'),\n",
       " Text(0,0,'C'),\n",
       " Text(0,0,'STI'),\n",
       " Text(0,0,'D'),\n",
       " Text(0,0,'DVA'),\n",
       " Text(0,0,'V'),\n",
       " Text(0,0,'SRE'),\n",
       " Text(0,0,'AON'),\n",
       " Text(0,0,'TMK'),\n",
       " Text(0,0,'EXPD'),\n",
       " Text(0,0,'ILMN'),\n",
       " Text(0,0,'LUV'),\n",
       " Text(0,0,'PNW'),\n",
       " Text(0,0,'RL'),\n",
       " Text(0,0,'GIS'),\n",
       " Text(0,0,'ECL'),\n",
       " Text(0,0,'ZBH'),\n",
       " Text(0,0,'EOG'),\n",
       " Text(0,0,'KIM'),\n",
       " Text(0,0,'CLX'),\n",
       " Text(0,0,'MCO'),\n",
       " Text(0,0,'UTX'),\n",
       " Text(0,0,'COP'),\n",
       " Text(0,0,'ORLY'),\n",
       " Text(0,0,'XRAY'),\n",
       " Text(0,0,'LUK'),\n",
       " Text(0,0,'JPM'),\n",
       " Text(0,0,'FLIR'),\n",
       " Text(0,0,'ROST'),\n",
       " Text(0,0,'K'),\n",
       " Text(0,0,'DVN'),\n",
       " Text(0,0,'PNC'),\n",
       " Text(0,0,'AOS'),\n",
       " Text(0,0,'L'),\n",
       " Text(0,0,'RE'),\n",
       " Text(0,0,'COL'),\n",
       " Text(0,0,'NSC'),\n",
       " Text(0,0,'AES'),\n",
       " Text(0,0,'PKG'),\n",
       " Text(0,0,'EXPE'),\n",
       " Text(0,0,'HUM'),\n",
       " Text(0,0,'HST'),\n",
       " Text(0,0,'STT'),\n",
       " Text(0,0,'AET'),\n",
       " Text(0,0,'PCLN'),\n",
       " Text(0,0,'CCI'),\n",
       " Text(0,0,'AIV'),\n",
       " Text(0,0,'SCHW'),\n",
       " Text(0,0,'STZ'),\n",
       " Text(0,0,'GLW'),\n",
       " Text(0,0,'PKI'),\n",
       " Text(0,0,'XL'),\n",
       " Text(0,0,'VNO'),\n",
       " Text(0,0,'CTAS'),\n",
       " Text(0,0,'VZ'),\n",
       " Text(0,0,'AMZN'),\n",
       " Text(0,0,'CNP'),\n",
       " Text(0,0,'RCL'),\n",
       " Text(0,0,'GGP'),\n",
       " Text(0,0,'CAT'),\n",
       " Text(0,0,'AAPL'),\n",
       " Text(0,0,'PM'),\n",
       " Text(0,0,'TEL'),\n",
       " Text(0,0,'AAP'),\n",
       " Text(0,0,'CMCSA'),\n",
       " Text(0,0,'GRMN'),\n",
       " Text(0,0,'AGN'),\n",
       " Text(0,0,'ADS'),\n",
       " Text(0,0,'CAH'),\n",
       " Text(0,0,'CBG'),\n",
       " Text(0,0,'TROW'),\n",
       " Text(0,0,'HRS'),\n",
       " Text(0,0,'PX'),\n",
       " Text(0,0,'FBHS'),\n",
       " Text(0,0,'PFE'),\n",
       " Text(0,0,'REG'),\n",
       " Text(0,0,'AAL'),\n",
       " Text(0,0,'MAR'),\n",
       " Text(0,0,'VRSN'),\n",
       " Text(0,0,'FITB'),\n",
       " Text(0,0,'ABC'),\n",
       " Text(0,0,'KMI'),\n",
       " Text(0,0,'AMG'),\n",
       " Text(0,0,'SPGI'),\n",
       " Text(0,0,'SYK'),\n",
       " Text(0,0,'MMC'),\n",
       " Text(0,0,'CELG'),\n",
       " Text(0,0,'TIF'),\n",
       " Text(0,0,'CBS'),\n",
       " Text(0,0,'PEP'),\n",
       " Text(0,0,'FRT'),\n",
       " Text(0,0,'SNPS'),\n",
       " Text(0,0,'PLD'),\n",
       " Text(0,0,'MMM'),\n",
       " Text(0,0,'EMN'),\n",
       " Text(0,0,'PCG'),\n",
       " Text(0,0,'BF.B'),\n",
       " Text(0,0,'AMT'),\n",
       " Text(0,0,'ADI'),\n",
       " Text(0,0,'MAA'),\n",
       " Text(0,0,'DRE'),\n",
       " Text(0,0,'MAS'),\n",
       " Text(0,0,'CAG'),\n",
       " Text(0,0,'MGM'),\n",
       " Text(0,0,'MAT'),\n",
       " Text(0,0,'CNC'),\n",
       " Text(0,0,'VLO'),\n",
       " Text(0,0,'UPS'),\n",
       " Text(0,0,'CME'),\n",
       " Text(0,0,'JWN'),\n",
       " Text(0,0,'EMR'),\n",
       " Text(0,0,'OKE'),\n",
       " Text(0,0,'SYY'),\n",
       " Text(0,0,'GILD'),\n",
       " Text(0,0,'SNA'),\n",
       " Text(0,0,'MS'),\n",
       " Text(0,0,'WMT'),\n",
       " Text(0,0,'RTN'),\n",
       " Text(0,0,'TWX'),\n",
       " Text(0,0,'ALXN'),\n",
       " Text(0,0,'ULTA'),\n",
       " Text(0,0,'DG'),\n",
       " Text(0,0,'CVX'),\n",
       " Text(0,0,'NCLH'),\n",
       " Text(0,0,'UHS'),\n",
       " Text(0,0,'GPN'),\n",
       " Text(0,0,'DLR'),\n",
       " Text(0,0,'MO'),\n",
       " Text(0,0,'TXN'),\n",
       " Text(0,0,'KLAC'),\n",
       " Text(0,0,'UNM'),\n",
       " Text(0,0,'INTC'),\n",
       " Text(0,0,'BK'),\n",
       " Text(0,0,'BLL'),\n",
       " Text(0,0,'NI'),\n",
       " Text(0,0,'HP'),\n",
       " Text(0,0,'GT'),\n",
       " Text(0,0,'HCA'),\n",
       " Text(0,0,'GS'),\n",
       " Text(0,0,'BLK'),\n",
       " Text(0,0,'CDNS'),\n",
       " Text(0,0,'LOW'),\n",
       " Text(0,0,'MA'),\n",
       " Text(0,0,'HII'),\n",
       " Text(0,0,'SNI'),\n",
       " Text(0,0,'DFS'),\n",
       " Text(0,0,'PRU'),\n",
       " Text(0,0,'CTSH'),\n",
       " Text(0,0,'SHW'),\n",
       " Text(0,0,'MCHP'),\n",
       " Text(0,0,'APC'),\n",
       " Text(0,0,'LLL'),\n",
       " Text(0,0,'VTR'),\n",
       " Text(0,0,'XRX'),\n",
       " Text(0,0,'GPS'),\n",
       " Text(0,0,'HIG'),\n",
       " Text(0,0,'MU'),\n",
       " Text(0,0,'TXT'),\n",
       " Text(0,0,'ETFC'),\n",
       " Text(0,0,'PDCO'),\n",
       " Text(0,0,'APD'),\n",
       " Text(0,0,'HD'),\n",
       " Text(0,0,'FIS'),\n",
       " Text(0,0,'IPG'),\n",
       " Text(0,0,'DISH'),\n",
       " Text(0,0,'UNP'),\n",
       " Text(0,0,'AMAT'),\n",
       " Text(0,0,'LLY'),\n",
       " Text(0,0,'JNPR'),\n",
       " Text(0,0,'RRC'),\n",
       " Text(0,0,'KORS'),\n",
       " Text(0,0,'UAA'),\n",
       " Text(0,0,'NTAP'),\n",
       " Text(0,0,'HCN'),\n",
       " Text(0,0,'MSI'),\n",
       " Text(0,0,'AKAM'),\n",
       " Text(0,0,'SBAC'),\n",
       " Text(0,0,'RSG'),\n",
       " Text(0,0,'IR'),\n",
       " Text(0,0,'AWK'),\n",
       " Text(0,0,'EXR'),\n",
       " Text(0,0,'HAL'),\n",
       " Text(0,0,'DISCA'),\n",
       " Text(0,0,'EW'),\n",
       " Text(0,0,'LMT'),\n",
       " Text(0,0,'BRK.B'),\n",
       " Text(0,0,'CI'),\n",
       " Text(0,0,'PPL'),\n",
       " Text(0,0,'EQT'),\n",
       " Text(0,0,'ANSS'),\n",
       " Text(0,0,'SLB'),\n",
       " Text(0,0,'EL'),\n",
       " Text(0,0,'LKQ'),\n",
       " Text(0,0,'WFC'),\n",
       " Text(0,0,'WYNN'),\n",
       " Text(0,0,'PSX'),\n",
       " Text(0,0,'SIG'),\n",
       " Text(0,0,'MRK'),\n",
       " Text(0,0,'JNJ'),\n",
       " Text(0,0,'QCOM'),\n",
       " Text(0,0,'LNT'),\n",
       " Text(0,0,'LB'),\n",
       " Text(0,0,'BAC'),\n",
       " Text(0,0,'CF'),\n",
       " Text(0,0,'IT'),\n",
       " Text(0,0,'CA'),\n",
       " Text(0,0,'SEE'),\n",
       " Text(0,0,'DHI'),\n",
       " Text(0,0,'ARNC'),\n",
       " Text(0,0,'FE'),\n",
       " Text(0,0,'BBY'),\n",
       " Text(0,0,'IRM'),\n",
       " Text(0,0,'PVH'),\n",
       " Text(0,0,'FB'),\n",
       " Text(0,0,'DGX'),\n",
       " Text(0,0,'CRM'),\n",
       " Text(0,0,'EQR'),\n",
       " Text(0,0,'HBAN'),\n",
       " Text(0,0,'COST'),\n",
       " Text(0,0,'ED'),\n",
       " Text(0,0,'BAX'),\n",
       " Text(0,0,'FL'),\n",
       " Text(0,0,'GOOGL'),\n",
       " Text(0,0,'HSIC'),\n",
       " Text(0,0,'SCG'),\n",
       " Text(0,0,'WEC'),\n",
       " Text(0,0,'ALB'),\n",
       " Text(0,0,'MOS'),\n",
       " Text(0,0,'WM'),\n",
       " Text(0,0,'STX'),\n",
       " Text(0,0,'COG'),\n",
       " Text(0,0,'RHI'),\n",
       " Text(0,0,'CCL'),\n",
       " Text(0,0,'TMO'),\n",
       " Text(0,0,'AIZ'),\n",
       " Text(0,0,'PHM'),\n",
       " Text(0,0,'MSFT'),\n",
       " Text(0,0,'TGT'),\n",
       " Text(0,0,'ALL'),\n",
       " Text(0,0,'BSX'),\n",
       " Text(0,0,'FAST'),\n",
       " Text(0,0,'ALK'),\n",
       " Text(0,0,'SWK'),\n",
       " Text(0,0,'SRCL'),\n",
       " Text(0,0,'ABBV'),\n",
       " Text(0,0,'AFL'),\n",
       " Text(0,0,'MCD'),\n",
       " Text(0,0,'ANDV'),\n",
       " Text(0,0,'VAR'),\n",
       " Text(0,0,'RMD'),\n",
       " Text(0,0,'AJG'),\n",
       " Text(0,0,'IFF'),\n",
       " Text(0,0,'PGR')]"
      ]
     },
     "execution_count": 32,
     "metadata": {},
     "output_type": "execute_result"
    },
    {
     "data": {
      "image/png": "[encoded data removed]",
      "text/plain": [
       "<matplotlib.figure.Figure at 0x1a1e859898>"
      ]
     },
     "metadata": {},
     "output_type": "display_data"
    }
   ],
   "source": [
    "fig = plt.figure()\n",
    "plt.plot(list_val_acc)\n",
    "plt.plot(list_train_acc)\n",
    "plt.title('CNN Comparison of Train/Validation Accuracy')\n",
    "\n",
    "ax = fig.add_subplot(111)\n",
    "\n",
    "ax.set_xticks(range(len(list_ticker)))\n",
    "ax.set_xticklabels(list_ticker, rotation=45)"
   ]
  },
  {
   "cell_type": "code",
   "execution_count": 33,
   "metadata": {
    "ExecuteTime": {
     "end_time": "2018-04-26T01:12:16.562912Z",
     "start_time": "2018-04-26T01:12:16.558530Z"
    }
   },
   "outputs": [],
   "source": [
    "file = open(\"list_results_caps.pkl\",'rb')\n",
    "list_results_caps = pickle.load(file)"
   ]
  },
  {
   "cell_type": "code",
   "execution_count": 34,
   "metadata": {
    "ExecuteTime": {
     "end_time": "2018-04-26T01:12:16.689801Z",
     "start_time": "2018-04-26T01:12:16.683998Z"
    }
   },
   "outputs": [],
   "source": [
    "df = pd.DataFrame(list_results_caps,columns=['ticker','max_train_accuracy','max_val_accuracy','epoch_max_train','epoch_max_val'])"
   ]
  },
  {
   "cell_type": "code",
   "execution_count": 35,
   "metadata": {
    "ExecuteTime": {
     "end_time": "2018-04-26T01:12:16.755292Z",
     "start_time": "2018-04-26T01:12:16.752114Z"
    }
   },
   "outputs": [],
   "source": [
    "df.index = df['ticker']"
   ]
  },
  {
   "cell_type": "code",
   "execution_count": 36,
   "metadata": {
    "ExecuteTime": {
     "end_time": "2018-04-26T01:12:16.835474Z",
     "start_time": "2018-04-26T01:12:16.818897Z"
    },
    "scrolled": true
   },
   "outputs": [],
   "source": [
    "df2 = df1.join(df,rsuffix = '_caps')"
   ]
  },
  {
   "cell_type": "code",
   "execution_count": 37,
   "metadata": {
    "ExecuteTime": {
     "end_time": "2018-04-26T01:12:16.898081Z",
     "start_time": "2018-04-26T01:12:16.893658Z"
    }
   },
   "outputs": [
    {
     "data": {
      "text/plain": [
       "468"
      ]
     },
     "execution_count": 37,
     "metadata": {},
     "output_type": "execute_result"
    }
   ],
   "source": [
    "len(df2)"
   ]
  },
  {
   "cell_type": "code",
   "execution_count": 38,
   "metadata": {
    "ExecuteTime": {
     "end_time": "2018-04-26T01:12:16.975844Z",
     "start_time": "2018-04-26T01:12:16.955255Z"
    }
   },
   "outputs": [
    {
     "data": {
      "text/html": [
       "<div>\n",
       "<style scoped>\n",
       "    .dataframe tbody tr th:only-of-type {\n",
       "        vertical-align: middle;\n",
       "    }\n",
       "\n",
       "    .dataframe tbody tr th {\n",
       "        vertical-align: top;\n",
       "    }\n",
       "\n",
       "    .dataframe thead th {\n",
       "        text-align: right;\n",
       "    }\n",
       "</style>\n",
       "<table border=\"1\" class=\"dataframe\">\n",
       "  <thead>\n",
       "    <tr style=\"text-align: right;\">\n",
       "      <th></th>\n",
       "      <th>ticker</th>\n",
       "      <th>max_train_accuracy</th>\n",
       "      <th>max_val_accuracy</th>\n",
       "      <th>epoch_max_train</th>\n",
       "      <th>epoch_max_val</th>\n",
       "      <th>ticker_caps</th>\n",
       "      <th>max_train_accuracy_caps</th>\n",
       "      <th>max_val_accuracy_caps</th>\n",
       "      <th>epoch_max_train_caps</th>\n",
       "      <th>epoch_max_val_caps</th>\n",
       "    </tr>\n",
       "    <tr>\n",
       "      <th>ticker</th>\n",
       "      <th></th>\n",
       "      <th></th>\n",
       "      <th></th>\n",
       "      <th></th>\n",
       "      <th></th>\n",
       "      <th></th>\n",
       "      <th></th>\n",
       "      <th></th>\n",
       "      <th></th>\n",
       "      <th></th>\n",
       "    </tr>\n",
       "  </thead>\n",
       "  <tbody>\n",
       "    <tr>\n",
       "      <th>EFX</th>\n",
       "      <td>EFX</td>\n",
       "      <td>0.629328</td>\n",
       "      <td>0.532787</td>\n",
       "      <td>47</td>\n",
       "      <td>14</td>\n",
       "      <td>EFX</td>\n",
       "      <td>0.623218</td>\n",
       "      <td>0.581967</td>\n",
       "      <td>6.0</td>\n",
       "      <td>0.0</td>\n",
       "    </tr>\n",
       "    <tr>\n",
       "      <th>MET</th>\n",
       "      <td>MET</td>\n",
       "      <td>0.626273</td>\n",
       "      <td>0.598361</td>\n",
       "      <td>42</td>\n",
       "      <td>7</td>\n",
       "      <td>NaN</td>\n",
       "      <td>NaN</td>\n",
       "      <td>NaN</td>\n",
       "      <td>NaN</td>\n",
       "      <td>NaN</td>\n",
       "    </tr>\n",
       "    <tr>\n",
       "      <th>EQIX</th>\n",
       "      <td>EQIX</td>\n",
       "      <td>0.625255</td>\n",
       "      <td>0.557377</td>\n",
       "      <td>47</td>\n",
       "      <td>1</td>\n",
       "      <td>EQIX</td>\n",
       "      <td>0.634420</td>\n",
       "      <td>0.614754</td>\n",
       "      <td>6.0</td>\n",
       "      <td>0.0</td>\n",
       "    </tr>\n",
       "    <tr>\n",
       "      <th>LYB</th>\n",
       "      <td>LYB</td>\n",
       "      <td>0.638493</td>\n",
       "      <td>0.508197</td>\n",
       "      <td>49</td>\n",
       "      <td>6</td>\n",
       "      <td>NaN</td>\n",
       "      <td>NaN</td>\n",
       "      <td>NaN</td>\n",
       "      <td>NaN</td>\n",
       "      <td>NaN</td>\n",
       "    </tr>\n",
       "    <tr>\n",
       "      <th>TDG</th>\n",
       "      <td>TDG</td>\n",
       "      <td>0.640530</td>\n",
       "      <td>0.598361</td>\n",
       "      <td>43</td>\n",
       "      <td>41</td>\n",
       "      <td>NaN</td>\n",
       "      <td>NaN</td>\n",
       "      <td>NaN</td>\n",
       "      <td>NaN</td>\n",
       "      <td>NaN</td>\n",
       "    </tr>\n",
       "  </tbody>\n",
       "</table>\n",
       "</div>"
      ],
      "text/plain": [
       "       ticker  max_train_accuracy  max_val_accuracy  epoch_max_train  \\\n",
       "ticker                                                                 \n",
       "EFX       EFX            0.629328          0.532787               47   \n",
       "MET       MET            0.626273          0.598361               42   \n",
       "EQIX     EQIX            0.625255          0.557377               47   \n",
       "LYB       LYB            0.638493          0.508197               49   \n",
       "TDG       TDG            0.640530          0.598361               43   \n",
       "\n",
       "        epoch_max_val ticker_caps  max_train_accuracy_caps  \\\n",
       "ticker                                                       \n",
       "EFX                14         EFX                 0.623218   \n",
       "MET                 7         NaN                      NaN   \n",
       "EQIX                1        EQIX                 0.634420   \n",
       "LYB                 6         NaN                      NaN   \n",
       "TDG                41         NaN                      NaN   \n",
       "\n",
       "        max_val_accuracy_caps  epoch_max_train_caps  epoch_max_val_caps  \n",
       "ticker                                                                   \n",
       "EFX                  0.581967                   6.0                 0.0  \n",
       "MET                       NaN                   NaN                 NaN  \n",
       "EQIX                 0.614754                   6.0                 0.0  \n",
       "LYB                       NaN                   NaN                 NaN  \n",
       "TDG                       NaN                   NaN                 NaN  "
      ]
     },
     "execution_count": 38,
     "metadata": {},
     "output_type": "execute_result"
    }
   ],
   "source": [
    "df2.head()"
   ]
  },
  {
   "cell_type": "code",
   "execution_count": 49,
   "metadata": {
    "ExecuteTime": {
     "end_time": "2018-04-26T01:39:04.138297Z",
     "start_time": "2018-04-26T01:39:04.132591Z"
    }
   },
   "outputs": [],
   "source": [
    "df2 = df2[~np.isnan(df2['max_val_accuracy_caps'])]"
   ]
  },
  {
   "cell_type": "code",
   "execution_count": 81,
   "metadata": {
    "ExecuteTime": {
     "end_time": "2018-04-26T02:02:31.415518Z",
     "start_time": "2018-04-26T02:02:31.410280Z"
    }
   },
   "outputs": [],
   "source": [
    "def caps_greater(x, y):\n",
    "    if x>=y:\n",
    "        return 'Capsnet_better'\n",
    "    else:\n",
    "        return 'CNN_better'"
   ]
  },
  {
   "cell_type": "code",
   "execution_count": 82,
   "metadata": {
    "ExecuteTime": {
     "end_time": "2018-04-26T02:02:31.636242Z",
     "start_time": "2018-04-26T02:02:31.623528Z"
    }
   },
   "outputs": [],
   "source": [
    "df2['capsnet_greater'] = df2.apply(lambda x: caps_greater(x.max_val_accuracy_caps, x.max_val_accuracy), axis=1)"
   ]
  },
  {
   "cell_type": "code",
   "execution_count": 75,
   "metadata": {
    "ExecuteTime": {
     "end_time": "2018-04-26T01:46:46.755970Z",
     "start_time": "2018-04-26T01:46:46.734052Z"
    }
   },
   "outputs": [
    {
     "data": {
      "text/html": [
       "<div>\n",
       "<style scoped>\n",
       "    .dataframe tbody tr th:only-of-type {\n",
       "        vertical-align: middle;\n",
       "    }\n",
       "\n",
       "    .dataframe tbody tr th {\n",
       "        vertical-align: top;\n",
       "    }\n",
       "\n",
       "    .dataframe thead th {\n",
       "        text-align: right;\n",
       "    }\n",
       "</style>\n",
       "<table border=\"1\" class=\"dataframe\">\n",
       "  <thead>\n",
       "    <tr style=\"text-align: right;\">\n",
       "      <th></th>\n",
       "      <th>ticker</th>\n",
       "      <th>max_train_accuracy</th>\n",
       "      <th>max_val_accuracy</th>\n",
       "      <th>epoch_max_train</th>\n",
       "      <th>epoch_max_val</th>\n",
       "      <th>ticker_caps</th>\n",
       "      <th>max_train_accuracy_caps</th>\n",
       "      <th>max_val_accuracy_caps</th>\n",
       "      <th>epoch_max_train_caps</th>\n",
       "      <th>epoch_max_val_caps</th>\n",
       "      <th>capsnet_greater</th>\n",
       "    </tr>\n",
       "    <tr>\n",
       "      <th>ticker</th>\n",
       "      <th></th>\n",
       "      <th></th>\n",
       "      <th></th>\n",
       "      <th></th>\n",
       "      <th></th>\n",
       "      <th></th>\n",
       "      <th></th>\n",
       "      <th></th>\n",
       "      <th></th>\n",
       "      <th></th>\n",
       "      <th></th>\n",
       "    </tr>\n",
       "  </thead>\n",
       "  <tbody>\n",
       "    <tr>\n",
       "      <th>EFX</th>\n",
       "      <td>EFX</td>\n",
       "      <td>0.629328</td>\n",
       "      <td>0.532787</td>\n",
       "      <td>47</td>\n",
       "      <td>14</td>\n",
       "      <td>EFX</td>\n",
       "      <td>0.623218</td>\n",
       "      <td>0.581967</td>\n",
       "      <td>6.0</td>\n",
       "      <td>0.0</td>\n",
       "      <td>Capsnet better</td>\n",
       "    </tr>\n",
       "    <tr>\n",
       "      <th>EQIX</th>\n",
       "      <td>EQIX</td>\n",
       "      <td>0.625255</td>\n",
       "      <td>0.557377</td>\n",
       "      <td>47</td>\n",
       "      <td>1</td>\n",
       "      <td>EQIX</td>\n",
       "      <td>0.634420</td>\n",
       "      <td>0.614754</td>\n",
       "      <td>6.0</td>\n",
       "      <td>0.0</td>\n",
       "      <td>Capsnet better</td>\n",
       "    </tr>\n",
       "    <tr>\n",
       "      <th>COO</th>\n",
       "      <td>COO</td>\n",
       "      <td>0.631365</td>\n",
       "      <td>0.606557</td>\n",
       "      <td>48</td>\n",
       "      <td>4</td>\n",
       "      <td>COO</td>\n",
       "      <td>0.639511</td>\n",
       "      <td>0.622951</td>\n",
       "      <td>6.0</td>\n",
       "      <td>4.0</td>\n",
       "      <td>Capsnet better</td>\n",
       "    </tr>\n",
       "    <tr>\n",
       "      <th>AEP</th>\n",
       "      <td>AEP</td>\n",
       "      <td>0.614053</td>\n",
       "      <td>0.622951</td>\n",
       "      <td>40</td>\n",
       "      <td>35</td>\n",
       "      <td>AEP</td>\n",
       "      <td>0.653768</td>\n",
       "      <td>0.622951</td>\n",
       "      <td>6.0</td>\n",
       "      <td>3.0</td>\n",
       "      <td>Capsnet better</td>\n",
       "    </tr>\n",
       "    <tr>\n",
       "      <th>COF</th>\n",
       "      <td>COF</td>\n",
       "      <td>0.642566</td>\n",
       "      <td>0.540984</td>\n",
       "      <td>41</td>\n",
       "      <td>1</td>\n",
       "      <td>COF</td>\n",
       "      <td>0.658859</td>\n",
       "      <td>0.475410</td>\n",
       "      <td>6.0</td>\n",
       "      <td>2.0</td>\n",
       "      <td>CNN better</td>\n",
       "    </tr>\n",
       "  </tbody>\n",
       "</table>\n",
       "</div>"
      ],
      "text/plain": [
       "       ticker  max_train_accuracy  max_val_accuracy  epoch_max_train  \\\n",
       "ticker                                                                 \n",
       "EFX       EFX            0.629328          0.532787               47   \n",
       "EQIX     EQIX            0.625255          0.557377               47   \n",
       "COO       COO            0.631365          0.606557               48   \n",
       "AEP       AEP            0.614053          0.622951               40   \n",
       "COF       COF            0.642566          0.540984               41   \n",
       "\n",
       "        epoch_max_val ticker_caps  max_train_accuracy_caps  \\\n",
       "ticker                                                       \n",
       "EFX                14         EFX                 0.623218   \n",
       "EQIX                1        EQIX                 0.634420   \n",
       "COO                 4         COO                 0.639511   \n",
       "AEP                35         AEP                 0.653768   \n",
       "COF                 1         COF                 0.658859   \n",
       "\n",
       "        max_val_accuracy_caps  epoch_max_train_caps  epoch_max_val_caps  \\\n",
       "ticker                                                                    \n",
       "EFX                  0.581967                   6.0                 0.0   \n",
       "EQIX                 0.614754                   6.0                 0.0   \n",
       "COO                  0.622951                   6.0                 4.0   \n",
       "AEP                  0.622951                   6.0                 3.0   \n",
       "COF                  0.475410                   6.0                 2.0   \n",
       "\n",
       "       capsnet_greater  \n",
       "ticker                  \n",
       "EFX     Capsnet better  \n",
       "EQIX    Capsnet better  \n",
       "COO     Capsnet better  \n",
       "AEP     Capsnet better  \n",
       "COF         CNN better  "
      ]
     },
     "execution_count": 75,
     "metadata": {},
     "output_type": "execute_result"
    }
   ],
   "source": [
    "df2.head()"
   ]
  },
  {
   "cell_type": "markdown",
   "metadata": {
    "ExecuteTime": {
     "end_time": "2018-04-26T01:41:10.799854Z",
     "start_time": "2018-04-26T01:41:10.779882Z"
    }
   },
   "source": [
    "import seaborn as sns\n",
    "sns.regplot(x=df2[\"max_val_accuracy\"], y=df2[\"max_val_accuracy_caps\"], fit_reg=False, hue=df2[\"capsnet_greater\"])\n",
    "plt.title('Scatter Plot Capsnet vs. CNN Maximum Validation Accuracy')\n",
    "plt.ylabel('Capnset Accuracy')\n",
    "plt.xlabel('CNN Accuracy')"
   ]
  },
  {
   "cell_type": "code",
   "execution_count": 87,
   "metadata": {
    "ExecuteTime": {
     "end_time": "2018-04-26T02:06:24.130184Z",
     "start_time": "2018-04-26T02:06:23.737765Z"
    }
   },
   "outputs": [
    {
     "data": {
      "image/png": "[encoded data removed]",
      "text/plain": [
       "<matplotlib.figure.Figure at 0x1a2167a0f0>"
      ]
     },
     "metadata": {},
     "output_type": "display_data"
    },
    {
     "data": {
      "image/png": "[encoded data removed]",
      "text/plain": [
       "<matplotlib.figure.Figure at 0x1a21a71ef0>"
      ]
     },
     "metadata": {},
     "output_type": "display_data"
    }
   ],
   "source": [
    "\n",
    "import seaborn as sns\n",
    "\n",
    " \n",
    "# Use the 'hue' argument to provide a factor variable\n",
    "sns.lmplot( x=\"max_val_accuracy\", y=\"max_val_accuracy_caps\", data=df2, fit_reg=False,\n",
    "           hue='capsnet_greater', legend=False, markers=[\"o\", \"o\"],\n",
    "           palette=dict(Capsnet_better=\"red\", CNN_better=\"skyblue\"))\n",
    " \n",
    "# Move the legend to an empty part of the plot\n",
    "plt.legend(loc='lower right')\n",
    " \n",
    "#sns.plt.show()\n",
    "plt.title('Scatter Plot Capsnet vs. CNN Maximum Validation Accuracy')\n",
    "plt.ylabel('Capnset Accuracy')\n",
    "plt.xlabel('CNN Accuracy')\n",
    "flatui = [\"skyblue\", \"red\"]\n",
    "sns.palplot(sns.color_palette(flatui))"
   ]
  },
  {
   "cell_type": "code",
   "execution_count": 41,
   "metadata": {
    "ExecuteTime": {
     "end_time": "2018-04-26T01:12:17.428607Z",
     "start_time": "2018-04-26T01:12:17.421585Z"
    }
   },
   "outputs": [
    {
     "data": {
      "text/plain": [
       "61"
      ]
     },
     "execution_count": 41,
     "metadata": {},
     "output_type": "execute_result"
    }
   ],
   "source": [
    "len(df2)"
   ]
  },
  {
   "cell_type": "code",
   "execution_count": 42,
   "metadata": {
    "ExecuteTime": {
     "end_time": "2018-04-26T01:12:20.317235Z",
     "start_time": "2018-04-26T01:12:19.129134Z"
    },
    "scrolled": false
   },
   "outputs": [
    {
     "data": {
      "text/plain": [
       "Text(0,0.5,'Validation Accuracy')"
      ]
     },
     "execution_count": 42,
     "metadata": {},
     "output_type": "execute_result"
    },
    {
     "data": {
      "text/plain": [
       "<matplotlib.figure.Figure at 0x11264a0b8>"
      ]
     },
     "metadata": {},
     "output_type": "display_data"
    },
    {
     "data": {
      "image/png": "[encoded data removed]",
      "text/plain": [
       "<matplotlib.figure.Figure at 0x1a1eafee10>"
      ]
     },
     "metadata": {},
     "output_type": "display_data"
    }
   ],
   "source": [
    "%matplotlib inline\n",
    "plt.figure(figsize=(25,25));\n",
    "\n",
    "\n",
    "\n",
    "df2[['max_val_accuracy', 'max_val_accuracy_caps']].plot(kind='bar',figsize=(20,20))\n",
    "plt.title('Comparision of Maximum Validation Accuracy CNN vs. Capsnet')\n",
    "plt.ylabel('Validation Accuracy')"
   ]
  },
  {
   "cell_type": "code",
   "execution_count": 43,
   "metadata": {
    "ExecuteTime": {
     "end_time": "2018-04-26T01:12:20.884032Z",
     "start_time": "2018-04-26T01:12:20.376846Z"
    }
   },
   "outputs": [
    {
     "data": {
      "text/plain": [
       "Text(0.5,1,'Distribution Maximum Validation Accuracy CNN vs. Capsnet')"
      ]
     },
     "execution_count": 43,
     "metadata": {},
     "output_type": "execute_result"
    },
    {
     "data": {
      "image/png": "[encoded data removed]",
      "text/plain": [
       "<matplotlib.figure.Figure at 0x1a1f33b860>"
      ]
     },
     "metadata": {},
     "output_type": "display_data"
    }
   ],
   "source": [
    "df2[['max_val_accuracy', 'max_val_accuracy_caps']].plot(kind='hist',figsize=(20,20))\n",
    "plt.title('Distribution Maximum Validation Accuracy CNN vs. Capsnet')"
   ]
  },
  {
   "cell_type": "code",
   "execution_count": 77,
   "metadata": {
    "ExecuteTime": {
     "end_time": "2018-04-26T01:57:13.468217Z",
     "start_time": "2018-04-26T01:57:13.122868Z"
    }
   },
   "outputs": [
    {
     "data": {
      "text/plain": [
       "Text(0.5,0,'Maximum Validation Accuracy')"
      ]
     },
     "execution_count": 77,
     "metadata": {},
     "output_type": "execute_result"
    },
    {
     "data": {
      "image/png": "[encoded data removed]",
      "text/plain": [
       "<matplotlib.figure.Figure at 0x1a215d1828>"
      ]
     },
     "metadata": {},
     "output_type": "display_data"
    }
   ],
   "source": [
    "import seaborn as sns\n",
    " \n",
    "# Method 1: on the same Axis\n",
    "sns.distplot( df2[\"max_val_accuracy\"] , color=\"skyblue\", label=\"CNN ACCURACY\")\n",
    "sns.distplot( df2[\"max_val_accuracy_caps\"] , color=\"red\", label=\"CAPSNET ACCURACY\")\n",
    "plt.title('Distribution Maximum Validation Accuracy CNN vs. Capsnet')\n",
    "plt.xlabel('Maximum Validation Accuracy')\n",
    "#sns.plt.legend()\n",
    " \n",
    "#sns.plt.show()\n"
   ]
  },
  {
   "cell_type": "code",
   "execution_count": null,
   "metadata": {},
   "outputs": [],
   "source": []
  }
 ],
 "metadata": {
  "kernelspec": {
   "display_name": "Python 3",
   "language": "python",
   "name": "python3"
  },
  "language_info": {
   "codemirror_mode": {
    "name": "ipython",
    "version": 3
   },
   "file_extension": ".py",
   "mimetype": "text/x-python",
   "name": "python",
   "nbconvert_exporter": "python",
   "pygments_lexer": "ipython3",
   "version": "3.6.3"
  },
  "toc": {
   "nav_menu": {},
   "number_sections": true,
   "sideBar": true,
   "skip_h1_title": false,
   "title_cell": "Table of Contents",
   "title_sidebar": "Contents",
   "toc_cell": false,
   "toc_position": {},
   "toc_section_display": true,
   "toc_window_display": false
  },
  "varInspector": {
   "cols": {
    "lenName": 16,
    "lenType": 16,
    "lenVar": 40
   },
   "kernels_config": {
    "python": {
     "delete_cmd_postfix": "",
     "delete_cmd_prefix": "del ",
     "library": "var_list.py",
     "varRefreshCmd": "print(var_dic_list())"
    },
    "r": {
     "delete_cmd_postfix": ") ",
     "delete_cmd_prefix": "rm(",
     "library": "var_list.r",
     "varRefreshCmd": "cat(var_dic_list()) "
    }
   },
   "types_to_exclude": [
    "module",
    "function",
    "builtin_function_or_method",
    "instance",
    "_Feature"
   ],
   "window_display": false
  }
 },
 "nbformat": 4,
 "nbformat_minor": 2
}
